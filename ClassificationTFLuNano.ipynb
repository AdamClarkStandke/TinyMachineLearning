{
  "nbformat": 4,
  "nbformat_minor": 0,
  "metadata": {
    "colab": {
      "provenance": [],
      "mount_file_id": "16H6NFJle0YxLAwYlwKbI7ZPpa_fycGM7",
      "authorship_tag": "ABX9TyMjOgzVFkPNcz6oenjg+GbS",
      "include_colab_link": true
    },
    "kernelspec": {
      "name": "python3",
      "display_name": "Python 3"
    },
    "language_info": {
      "name": "python"
    }
  },
  "cells": [
    {
      "cell_type": "markdown",
      "metadata": {
        "id": "view-in-github",
        "colab_type": "text"
      },
      "source": [
        "<a href=\"https://colab.research.google.com/github/AdamClarkStandke/TinyMachineLearning/blob/main/ClassificationTFLuNano.ipynb\" target=\"_parent\"><img src=\"https://colab.research.google.com/assets/colab-badge.svg\" alt=\"Open In Colab\"/></a>"
      ]
    },
    {
      "cell_type": "code",
      "execution_count": 1,
      "metadata": {
        "colab": {
          "base_uri": "https://localhost:8080/"
        },
        "id": "Sf0cvKQp5n-i",
        "outputId": "1a851e20-2bf4-4131-8ca4-532334daf33e"
      },
      "outputs": [
        {
          "output_type": "stream",
          "name": "stdout",
          "text": [
            "Colab only includes TensorFlow 2.x; %tensorflow_version has no effect.\n"
          ]
        }
      ],
      "source": [
        "%tensorflow_version 2.x"
      ]
    },
    {
      "cell_type": "code",
      "source": [
        "import numpy as np\n",
        "import pathlib\n",
        "import tensorflow as tf\n",
        "import tensorflow_datasets as tfds\n",
        "import zipfile\n",
        "from tensorflow.keras.applications.mobilenet_v2 import MobileNetV2\n",
        "from tensorflow.keras.models import Model"
      ],
      "metadata": {
        "id": "QFglS7gN6LjK"
      },
      "execution_count": 2,
      "outputs": []
    },
    {
      "cell_type": "code",
      "source": [
        "MODEL_ALPHA = 0.35\n",
        "MODEL_INPUT_WIDTH = 48\n",
        "MODEL_INPUT_HEIGHT = 48\n",
        "TFL_MODEL_FILE = \"recognize.tflite\"\n",
        "TFL_MODEL_HEADER_FILE = \"recognize_model.h\"\n",
        "TF_MODEL = \"recognize\""
      ],
      "metadata": {
        "id": "I76kxDk86Qt0"
      },
      "execution_count": 4,
      "outputs": []
    },
    {
      "cell_type": "code",
      "source": [
        "with zipfile.ZipFile(\"dataset.zip\", 'r') as zip_ref:\n",
        "    zip_ref.extractall(\".\")\n",
        "data_dir = \"dataset\""
      ],
      "metadata": {
        "id": "-C6aHNuW6vNr"
      },
      "execution_count": 5,
      "outputs": []
    },
    {
      "cell_type": "code",
      "source": [
        "train_ds = tf.keras.utils.image_dataset_from_directory(\n",
        "  data_dir,\n",
        "  validation_split=0.2,\n",
        "  subset=\"training\",\n",
        "  seed=123,\n",
        "  interpolation=\"bilinear\",\n",
        "  image_size=(MODEL_INPUT_WIDTH, MODEL_INPUT_HEIGHT)\n",
        "  )\n",
        "\n",
        "val_ds = tf.keras.utils.image_dataset_from_directory(\n",
        "  data_dir,\n",
        "  validation_split=0.2,\n",
        "  subset=\"validation\",\n",
        "  seed=123,\n",
        "  interpolation=\"bilinear\",\n",
        "  image_size=(MODEL_INPUT_WIDTH, MODEL_INPUT_HEIGHT)\n",
        "  )"
      ],
      "metadata": {
        "colab": {
          "base_uri": "https://localhost:8080/"
        },
        "id": "CWpvPB9e61o3",
        "outputId": "56819bd1-37f5-4ffb-80c0-405c0833352f"
      },
      "execution_count": 7,
      "outputs": [
        {
          "output_type": "stream",
          "name": "stdout",
          "text": [
            "Found 40 files belonging to 2 classes.\n",
            "Using 32 files for training.\n",
            "Found 40 files belonging to 2 classes.\n",
            "Using 8 files for validation.\n"
          ]
        }
      ]
    },
    {
      "cell_type": "code",
      "source": [
        "class_names = train_ds.class_names\n",
        "num_classes = len(class_names)\n",
        "print(class_names)"
      ],
      "metadata": {
        "colab": {
          "base_uri": "https://localhost:8080/"
        },
        "id": "jqHQ6Xvp8HIf",
        "outputId": "5cb2062d-4643-45c2-bf07-da484dcae2e3"
      },
      "execution_count": 8,
      "outputs": [
        {
          "output_type": "stream",
          "name": "stdout",
          "text": [
            "['bathroom', 'kitchen']\n"
          ]
        }
      ]
    },
    {
      "cell_type": "code",
      "source": [
        "rescale = tf.keras.layers.Rescaling(1./255, offset= -1)\n",
        "train_ds = train_ds.map(lambda x, y: (rescale(x), y))\n",
        "val_ds   = val_ds.map(lambda x, y: (rescale(x), y))"
      ],
      "metadata": {
        "colab": {
          "base_uri": "https://localhost:8080/"
        },
        "id": "b3yOji1I8LYf",
        "outputId": "904eaf2c-6c4a-4601-f147-e45a119117ca"
      },
      "execution_count": 9,
      "outputs": [
        {
          "output_type": "stream",
          "name": "stderr",
          "text": [
            "WARNING:tensorflow:From /usr/local/lib/python3.9/dist-packages/tensorflow/python/autograph/pyct/static_analysis/liveness.py:83: Analyzer.lamba_check (from tensorflow.python.autograph.pyct.static_analysis.liveness) is deprecated and will be removed after 2023-09-23.\n",
            "Instructions for updating:\n",
            "Lambda fuctions will be no more assumed to be used in the statement where they are used, or at least in the same block. https://github.com/tensorflow/tensorflow/issues/56089\n"
          ]
        }
      ]
    },
    {
      "cell_type": "code",
      "source": [
        "base_model = MobileNetV2(input_shape=(MODEL_INPUT_WIDTH, MODEL_INPUT_HEIGHT, 3),\n",
        "                         include_top=False,\n",
        "                         weights='imagenet',\n",
        "                         alpha=0.35)\n",
        "base_model.trainable = False\n",
        "\n",
        "feat_extr = base_model"
      ],
      "metadata": {
        "colab": {
          "base_uri": "https://localhost:8080/"
        },
        "id": "O1uXdRdu8Vss",
        "outputId": "f48705c1-e84c-412f-ec3f-82dd62dec8c0"
      },
      "execution_count": 10,
      "outputs": [
        {
          "output_type": "stream",
          "name": "stderr",
          "text": [
            "WARNING:tensorflow:`input_shape` is undefined or non-square, or `rows` is not in [96, 128, 160, 192, 224]. Weights for input shape (224, 224) will be loaded as the default.\n"
          ]
        },
        {
          "output_type": "stream",
          "name": "stdout",
          "text": [
            "Downloading data from https://storage.googleapis.com/tensorflow/keras-applications/mobilenet_v2/mobilenet_v2_weights_tf_dim_ordering_tf_kernels_0.35_224_no_top.h5\n",
            "2019640/2019640 [==============================] - 1s 1us/step\n"
          ]
        }
      ]
    },
    {
      "cell_type": "code",
      "source": [
        "augmen = tf.keras.Sequential([\n",
        "  tf.keras.layers.experimental.preprocessing.RandomRotation(0.2),\n",
        "  tf.keras.layers.experimental.preprocessing.RandomFlip('horizontal'),\n",
        "])\n",
        "\n",
        "train_ds = train_ds.map(lambda x, y: (augmen(x), y))\n",
        "val_ds   = val_ds.map(lambda x, y: (augmen(x), y))"
      ],
      "metadata": {
        "colab": {
          "base_uri": "https://localhost:8080/"
        },
        "id": "-LW3N22F8mM_",
        "outputId": "19bc6e61-8d19-433c-b445-b69edbdcab77"
      },
      "execution_count": 11,
      "outputs": [
        {
          "output_type": "stream",
          "name": "stderr",
          "text": [
            "WARNING:tensorflow:Using a while_loop for converting RngReadAndSkip cause there is no registered converter for this op.\n",
            "WARNING:tensorflow:Using a while_loop for converting Bitcast cause there is no registered converter for this op.\n",
            "WARNING:tensorflow:Using a while_loop for converting Bitcast cause there is no registered converter for this op.\n",
            "WARNING:tensorflow:Using a while_loop for converting StatelessRandomUniformV2 cause there is no registered converter for this op.\n",
            "WARNING:tensorflow:Using a while_loop for converting ImageProjectiveTransformV3 cause there is no registered converter for this op.\n",
            "WARNING:tensorflow:Using a while_loop for converting RngReadAndSkip cause there is no registered converter for this op.\n",
            "WARNING:tensorflow:Using a while_loop for converting Bitcast cause there is no registered converter for this op.\n",
            "WARNING:tensorflow:Using a while_loop for converting Bitcast cause there is no registered converter for this op.\n",
            "WARNING:tensorflow:Using a while_loop for converting StatelessRandomUniformV2 cause there is no registered converter for this op.\n",
            "WARNING:tensorflow:Using a while_loop for converting ImageProjectiveTransformV3 cause there is no registered converter for this op.\n",
            "WARNING:tensorflow:Using a while_loop for converting RngReadAndSkip cause there is no registered converter for this op.\n",
            "WARNING:tensorflow:Using a while_loop for converting Bitcast cause there is no registered converter for this op.\n",
            "WARNING:tensorflow:Using a while_loop for converting Bitcast cause there is no registered converter for this op.\n",
            "WARNING:tensorflow:Using a while_loop for converting StatelessRandomUniformV2 cause there is no registered converter for this op.\n",
            "WARNING:tensorflow:Using a while_loop for converting ImageProjectiveTransformV3 cause there is no registered converter for this op.\n"
          ]
        }
      ]
    },
    {
      "cell_type": "code",
      "source": [
        "global_avg_layer = tf.keras.layers.GlobalAveragePooling2D()\n",
        "dense_layer = tf.keras.layers.Dense(num_classes, activation='softmax')"
      ],
      "metadata": {
        "id": "1AxzEJGX80uY"
      },
      "execution_count": 12,
      "outputs": []
    },
    {
      "cell_type": "code",
      "source": [
        "inputs = tf.keras.Input(shape=(MODEL_INPUT_WIDTH, MODEL_INPUT_HEIGHT, 3))\n",
        "x = global_avg_layer(feat_extr.layers[-1].output)\n",
        "x = tf.keras.layers.Dropout(0.2)(x)\n",
        "outputs = dense_layer(x)\n",
        "model = tf.keras.Model(inputs=feat_extr.inputs, outputs=outputs)"
      ],
      "metadata": {
        "id": "fFDJK6ko9AwG"
      },
      "execution_count": 13,
      "outputs": []
    },
    {
      "cell_type": "code",
      "source": [
        "lr = 0.0005\n",
        "model.compile(\n",
        "  optimizer=tf.keras.optimizers.Adam(learning_rate=lr),\n",
        "  loss=tf.losses.SparseCategoricalCrossentropy(from_logits=False),\n",
        "  metrics=['accuracy'])\n",
        "     "
      ],
      "metadata": {
        "id": "PmK8Mn5-9Dce"
      },
      "execution_count": 14,
      "outputs": []
    },
    {
      "cell_type": "code",
      "source": [
        "model.summary()"
      ],
      "metadata": {
        "colab": {
          "base_uri": "https://localhost:8080/"
        },
        "id": "MlRSx4Wf9Le6",
        "outputId": "ff6a5328-8363-4d8a-abb3-c79720e2de92"
      },
      "execution_count": 15,
      "outputs": [
        {
          "output_type": "stream",
          "name": "stdout",
          "text": [
            "Model: \"model\"\n",
            "__________________________________________________________________________________________________\n",
            " Layer (type)                   Output Shape         Param #     Connected to                     \n",
            "==================================================================================================\n",
            " input_1 (InputLayer)           [(None, 48, 48, 3)]  0           []                               \n",
            "                                                                                                  \n",
            " Conv1 (Conv2D)                 (None, 24, 24, 16)   432         ['input_1[0][0]']                \n",
            "                                                                                                  \n",
            " bn_Conv1 (BatchNormalization)  (None, 24, 24, 16)   64          ['Conv1[0][0]']                  \n",
            "                                                                                                  \n",
            " Conv1_relu (ReLU)              (None, 24, 24, 16)   0           ['bn_Conv1[0][0]']               \n",
            "                                                                                                  \n",
            " expanded_conv_depthwise (Depth  (None, 24, 24, 16)  144         ['Conv1_relu[0][0]']             \n",
            " wiseConv2D)                                                                                      \n",
            "                                                                                                  \n",
            " expanded_conv_depthwise_BN (Ba  (None, 24, 24, 16)  64          ['expanded_conv_depthwise[0][0]']\n",
            " tchNormalization)                                                                                \n",
            "                                                                                                  \n",
            " expanded_conv_depthwise_relu (  (None, 24, 24, 16)  0           ['expanded_conv_depthwise_BN[0][0\n",
            " ReLU)                                                           ]']                              \n",
            "                                                                                                  \n",
            " expanded_conv_project (Conv2D)  (None, 24, 24, 8)   128         ['expanded_conv_depthwise_relu[0]\n",
            "                                                                 [0]']                            \n",
            "                                                                                                  \n",
            " expanded_conv_project_BN (Batc  (None, 24, 24, 8)   32          ['expanded_conv_project[0][0]']  \n",
            " hNormalization)                                                                                  \n",
            "                                                                                                  \n",
            " block_1_expand (Conv2D)        (None, 24, 24, 48)   384         ['expanded_conv_project_BN[0][0]'\n",
            "                                                                 ]                                \n",
            "                                                                                                  \n",
            " block_1_expand_BN (BatchNormal  (None, 24, 24, 48)  192         ['block_1_expand[0][0]']         \n",
            " ization)                                                                                         \n",
            "                                                                                                  \n",
            " block_1_expand_relu (ReLU)     (None, 24, 24, 48)   0           ['block_1_expand_BN[0][0]']      \n",
            "                                                                                                  \n",
            " block_1_pad (ZeroPadding2D)    (None, 25, 25, 48)   0           ['block_1_expand_relu[0][0]']    \n",
            "                                                                                                  \n",
            " block_1_depthwise (DepthwiseCo  (None, 12, 12, 48)  432         ['block_1_pad[0][0]']            \n",
            " nv2D)                                                                                            \n",
            "                                                                                                  \n",
            " block_1_depthwise_BN (BatchNor  (None, 12, 12, 48)  192         ['block_1_depthwise[0][0]']      \n",
            " malization)                                                                                      \n",
            "                                                                                                  \n",
            " block_1_depthwise_relu (ReLU)  (None, 12, 12, 48)   0           ['block_1_depthwise_BN[0][0]']   \n",
            "                                                                                                  \n",
            " block_1_project (Conv2D)       (None, 12, 12, 8)    384         ['block_1_depthwise_relu[0][0]'] \n",
            "                                                                                                  \n",
            " block_1_project_BN (BatchNorma  (None, 12, 12, 8)   32          ['block_1_project[0][0]']        \n",
            " lization)                                                                                        \n",
            "                                                                                                  \n",
            " block_2_expand (Conv2D)        (None, 12, 12, 48)   384         ['block_1_project_BN[0][0]']     \n",
            "                                                                                                  \n",
            " block_2_expand_BN (BatchNormal  (None, 12, 12, 48)  192         ['block_2_expand[0][0]']         \n",
            " ization)                                                                                         \n",
            "                                                                                                  \n",
            " block_2_expand_relu (ReLU)     (None, 12, 12, 48)   0           ['block_2_expand_BN[0][0]']      \n",
            "                                                                                                  \n",
            " block_2_depthwise (DepthwiseCo  (None, 12, 12, 48)  432         ['block_2_expand_relu[0][0]']    \n",
            " nv2D)                                                                                            \n",
            "                                                                                                  \n",
            " block_2_depthwise_BN (BatchNor  (None, 12, 12, 48)  192         ['block_2_depthwise[0][0]']      \n",
            " malization)                                                                                      \n",
            "                                                                                                  \n",
            " block_2_depthwise_relu (ReLU)  (None, 12, 12, 48)   0           ['block_2_depthwise_BN[0][0]']   \n",
            "                                                                                                  \n",
            " block_2_project (Conv2D)       (None, 12, 12, 8)    384         ['block_2_depthwise_relu[0][0]'] \n",
            "                                                                                                  \n",
            " block_2_project_BN (BatchNorma  (None, 12, 12, 8)   32          ['block_2_project[0][0]']        \n",
            " lization)                                                                                        \n",
            "                                                                                                  \n",
            " block_2_add (Add)              (None, 12, 12, 8)    0           ['block_1_project_BN[0][0]',     \n",
            "                                                                  'block_2_project_BN[0][0]']     \n",
            "                                                                                                  \n",
            " block_3_expand (Conv2D)        (None, 12, 12, 48)   384         ['block_2_add[0][0]']            \n",
            "                                                                                                  \n",
            " block_3_expand_BN (BatchNormal  (None, 12, 12, 48)  192         ['block_3_expand[0][0]']         \n",
            " ization)                                                                                         \n",
            "                                                                                                  \n",
            " block_3_expand_relu (ReLU)     (None, 12, 12, 48)   0           ['block_3_expand_BN[0][0]']      \n",
            "                                                                                                  \n",
            " block_3_pad (ZeroPadding2D)    (None, 13, 13, 48)   0           ['block_3_expand_relu[0][0]']    \n",
            "                                                                                                  \n",
            " block_3_depthwise (DepthwiseCo  (None, 6, 6, 48)    432         ['block_3_pad[0][0]']            \n",
            " nv2D)                                                                                            \n",
            "                                                                                                  \n",
            " block_3_depthwise_BN (BatchNor  (None, 6, 6, 48)    192         ['block_3_depthwise[0][0]']      \n",
            " malization)                                                                                      \n",
            "                                                                                                  \n",
            " block_3_depthwise_relu (ReLU)  (None, 6, 6, 48)     0           ['block_3_depthwise_BN[0][0]']   \n",
            "                                                                                                  \n",
            " block_3_project (Conv2D)       (None, 6, 6, 16)     768         ['block_3_depthwise_relu[0][0]'] \n",
            "                                                                                                  \n",
            " block_3_project_BN (BatchNorma  (None, 6, 6, 16)    64          ['block_3_project[0][0]']        \n",
            " lization)                                                                                        \n",
            "                                                                                                  \n",
            " block_4_expand (Conv2D)        (None, 6, 6, 96)     1536        ['block_3_project_BN[0][0]']     \n",
            "                                                                                                  \n",
            " block_4_expand_BN (BatchNormal  (None, 6, 6, 96)    384         ['block_4_expand[0][0]']         \n",
            " ization)                                                                                         \n",
            "                                                                                                  \n",
            " block_4_expand_relu (ReLU)     (None, 6, 6, 96)     0           ['block_4_expand_BN[0][0]']      \n",
            "                                                                                                  \n",
            " block_4_depthwise (DepthwiseCo  (None, 6, 6, 96)    864         ['block_4_expand_relu[0][0]']    \n",
            " nv2D)                                                                                            \n",
            "                                                                                                  \n",
            " block_4_depthwise_BN (BatchNor  (None, 6, 6, 96)    384         ['block_4_depthwise[0][0]']      \n",
            " malization)                                                                                      \n",
            "                                                                                                  \n",
            " block_4_depthwise_relu (ReLU)  (None, 6, 6, 96)     0           ['block_4_depthwise_BN[0][0]']   \n",
            "                                                                                                  \n",
            " block_4_project (Conv2D)       (None, 6, 6, 16)     1536        ['block_4_depthwise_relu[0][0]'] \n",
            "                                                                                                  \n",
            " block_4_project_BN (BatchNorma  (None, 6, 6, 16)    64          ['block_4_project[0][0]']        \n",
            " lization)                                                                                        \n",
            "                                                                                                  \n",
            " block_4_add (Add)              (None, 6, 6, 16)     0           ['block_3_project_BN[0][0]',     \n",
            "                                                                  'block_4_project_BN[0][0]']     \n",
            "                                                                                                  \n",
            " block_5_expand (Conv2D)        (None, 6, 6, 96)     1536        ['block_4_add[0][0]']            \n",
            "                                                                                                  \n",
            " block_5_expand_BN (BatchNormal  (None, 6, 6, 96)    384         ['block_5_expand[0][0]']         \n",
            " ization)                                                                                         \n",
            "                                                                                                  \n",
            " block_5_expand_relu (ReLU)     (None, 6, 6, 96)     0           ['block_5_expand_BN[0][0]']      \n",
            "                                                                                                  \n",
            " block_5_depthwise (DepthwiseCo  (None, 6, 6, 96)    864         ['block_5_expand_relu[0][0]']    \n",
            " nv2D)                                                                                            \n",
            "                                                                                                  \n",
            " block_5_depthwise_BN (BatchNor  (None, 6, 6, 96)    384         ['block_5_depthwise[0][0]']      \n",
            " malization)                                                                                      \n",
            "                                                                                                  \n",
            " block_5_depthwise_relu (ReLU)  (None, 6, 6, 96)     0           ['block_5_depthwise_BN[0][0]']   \n",
            "                                                                                                  \n",
            " block_5_project (Conv2D)       (None, 6, 6, 16)     1536        ['block_5_depthwise_relu[0][0]'] \n",
            "                                                                                                  \n",
            " block_5_project_BN (BatchNorma  (None, 6, 6, 16)    64          ['block_5_project[0][0]']        \n",
            " lization)                                                                                        \n",
            "                                                                                                  \n",
            " block_5_add (Add)              (None, 6, 6, 16)     0           ['block_4_add[0][0]',            \n",
            "                                                                  'block_5_project_BN[0][0]']     \n",
            "                                                                                                  \n",
            " block_6_expand (Conv2D)        (None, 6, 6, 96)     1536        ['block_5_add[0][0]']            \n",
            "                                                                                                  \n",
            " block_6_expand_BN (BatchNormal  (None, 6, 6, 96)    384         ['block_6_expand[0][0]']         \n",
            " ization)                                                                                         \n",
            "                                                                                                  \n",
            " block_6_expand_relu (ReLU)     (None, 6, 6, 96)     0           ['block_6_expand_BN[0][0]']      \n",
            "                                                                                                  \n",
            " block_6_pad (ZeroPadding2D)    (None, 7, 7, 96)     0           ['block_6_expand_relu[0][0]']    \n",
            "                                                                                                  \n",
            " block_6_depthwise (DepthwiseCo  (None, 3, 3, 96)    864         ['block_6_pad[0][0]']            \n",
            " nv2D)                                                                                            \n",
            "                                                                                                  \n",
            " block_6_depthwise_BN (BatchNor  (None, 3, 3, 96)    384         ['block_6_depthwise[0][0]']      \n",
            " malization)                                                                                      \n",
            "                                                                                                  \n",
            " block_6_depthwise_relu (ReLU)  (None, 3, 3, 96)     0           ['block_6_depthwise_BN[0][0]']   \n",
            "                                                                                                  \n",
            " block_6_project (Conv2D)       (None, 3, 3, 24)     2304        ['block_6_depthwise_relu[0][0]'] \n",
            "                                                                                                  \n",
            " block_6_project_BN (BatchNorma  (None, 3, 3, 24)    96          ['block_6_project[0][0]']        \n",
            " lization)                                                                                        \n",
            "                                                                                                  \n",
            " block_7_expand (Conv2D)        (None, 3, 3, 144)    3456        ['block_6_project_BN[0][0]']     \n",
            "                                                                                                  \n",
            " block_7_expand_BN (BatchNormal  (None, 3, 3, 144)   576         ['block_7_expand[0][0]']         \n",
            " ization)                                                                                         \n",
            "                                                                                                  \n",
            " block_7_expand_relu (ReLU)     (None, 3, 3, 144)    0           ['block_7_expand_BN[0][0]']      \n",
            "                                                                                                  \n",
            " block_7_depthwise (DepthwiseCo  (None, 3, 3, 144)   1296        ['block_7_expand_relu[0][0]']    \n",
            " nv2D)                                                                                            \n",
            "                                                                                                  \n",
            " block_7_depthwise_BN (BatchNor  (None, 3, 3, 144)   576         ['block_7_depthwise[0][0]']      \n",
            " malization)                                                                                      \n",
            "                                                                                                  \n",
            " block_7_depthwise_relu (ReLU)  (None, 3, 3, 144)    0           ['block_7_depthwise_BN[0][0]']   \n",
            "                                                                                                  \n",
            " block_7_project (Conv2D)       (None, 3, 3, 24)     3456        ['block_7_depthwise_relu[0][0]'] \n",
            "                                                                                                  \n",
            " block_7_project_BN (BatchNorma  (None, 3, 3, 24)    96          ['block_7_project[0][0]']        \n",
            " lization)                                                                                        \n",
            "                                                                                                  \n",
            " block_7_add (Add)              (None, 3, 3, 24)     0           ['block_6_project_BN[0][0]',     \n",
            "                                                                  'block_7_project_BN[0][0]']     \n",
            "                                                                                                  \n",
            " block_8_expand (Conv2D)        (None, 3, 3, 144)    3456        ['block_7_add[0][0]']            \n",
            "                                                                                                  \n",
            " block_8_expand_BN (BatchNormal  (None, 3, 3, 144)   576         ['block_8_expand[0][0]']         \n",
            " ization)                                                                                         \n",
            "                                                                                                  \n",
            " block_8_expand_relu (ReLU)     (None, 3, 3, 144)    0           ['block_8_expand_BN[0][0]']      \n",
            "                                                                                                  \n",
            " block_8_depthwise (DepthwiseCo  (None, 3, 3, 144)   1296        ['block_8_expand_relu[0][0]']    \n",
            " nv2D)                                                                                            \n",
            "                                                                                                  \n",
            " block_8_depthwise_BN (BatchNor  (None, 3, 3, 144)   576         ['block_8_depthwise[0][0]']      \n",
            " malization)                                                                                      \n",
            "                                                                                                  \n",
            " block_8_depthwise_relu (ReLU)  (None, 3, 3, 144)    0           ['block_8_depthwise_BN[0][0]']   \n",
            "                                                                                                  \n",
            " block_8_project (Conv2D)       (None, 3, 3, 24)     3456        ['block_8_depthwise_relu[0][0]'] \n",
            "                                                                                                  \n",
            " block_8_project_BN (BatchNorma  (None, 3, 3, 24)    96          ['block_8_project[0][0]']        \n",
            " lization)                                                                                        \n",
            "                                                                                                  \n",
            " block_8_add (Add)              (None, 3, 3, 24)     0           ['block_7_add[0][0]',            \n",
            "                                                                  'block_8_project_BN[0][0]']     \n",
            "                                                                                                  \n",
            " block_9_expand (Conv2D)        (None, 3, 3, 144)    3456        ['block_8_add[0][0]']            \n",
            "                                                                                                  \n",
            " block_9_expand_BN (BatchNormal  (None, 3, 3, 144)   576         ['block_9_expand[0][0]']         \n",
            " ization)                                                                                         \n",
            "                                                                                                  \n",
            " block_9_expand_relu (ReLU)     (None, 3, 3, 144)    0           ['block_9_expand_BN[0][0]']      \n",
            "                                                                                                  \n",
            " block_9_depthwise (DepthwiseCo  (None, 3, 3, 144)   1296        ['block_9_expand_relu[0][0]']    \n",
            " nv2D)                                                                                            \n",
            "                                                                                                  \n",
            " block_9_depthwise_BN (BatchNor  (None, 3, 3, 144)   576         ['block_9_depthwise[0][0]']      \n",
            " malization)                                                                                      \n",
            "                                                                                                  \n",
            " block_9_depthwise_relu (ReLU)  (None, 3, 3, 144)    0           ['block_9_depthwise_BN[0][0]']   \n",
            "                                                                                                  \n",
            " block_9_project (Conv2D)       (None, 3, 3, 24)     3456        ['block_9_depthwise_relu[0][0]'] \n",
            "                                                                                                  \n",
            " block_9_project_BN (BatchNorma  (None, 3, 3, 24)    96          ['block_9_project[0][0]']        \n",
            " lization)                                                                                        \n",
            "                                                                                                  \n",
            " block_9_add (Add)              (None, 3, 3, 24)     0           ['block_8_add[0][0]',            \n",
            "                                                                  'block_9_project_BN[0][0]']     \n",
            "                                                                                                  \n",
            " block_10_expand (Conv2D)       (None, 3, 3, 144)    3456        ['block_9_add[0][0]']            \n",
            "                                                                                                  \n",
            " block_10_expand_BN (BatchNorma  (None, 3, 3, 144)   576         ['block_10_expand[0][0]']        \n",
            " lization)                                                                                        \n",
            "                                                                                                  \n",
            " block_10_expand_relu (ReLU)    (None, 3, 3, 144)    0           ['block_10_expand_BN[0][0]']     \n",
            "                                                                                                  \n",
            " block_10_depthwise (DepthwiseC  (None, 3, 3, 144)   1296        ['block_10_expand_relu[0][0]']   \n",
            " onv2D)                                                                                           \n",
            "                                                                                                  \n",
            " block_10_depthwise_BN (BatchNo  (None, 3, 3, 144)   576         ['block_10_depthwise[0][0]']     \n",
            " rmalization)                                                                                     \n",
            "                                                                                                  \n",
            " block_10_depthwise_relu (ReLU)  (None, 3, 3, 144)   0           ['block_10_depthwise_BN[0][0]']  \n",
            "                                                                                                  \n",
            " block_10_project (Conv2D)      (None, 3, 3, 32)     4608        ['block_10_depthwise_relu[0][0]']\n",
            "                                                                                                  \n",
            " block_10_project_BN (BatchNorm  (None, 3, 3, 32)    128         ['block_10_project[0][0]']       \n",
            " alization)                                                                                       \n",
            "                                                                                                  \n",
            " block_11_expand (Conv2D)       (None, 3, 3, 192)    6144        ['block_10_project_BN[0][0]']    \n",
            "                                                                                                  \n",
            " block_11_expand_BN (BatchNorma  (None, 3, 3, 192)   768         ['block_11_expand[0][0]']        \n",
            " lization)                                                                                        \n",
            "                                                                                                  \n",
            " block_11_expand_relu (ReLU)    (None, 3, 3, 192)    0           ['block_11_expand_BN[0][0]']     \n",
            "                                                                                                  \n",
            " block_11_depthwise (DepthwiseC  (None, 3, 3, 192)   1728        ['block_11_expand_relu[0][0]']   \n",
            " onv2D)                                                                                           \n",
            "                                                                                                  \n",
            " block_11_depthwise_BN (BatchNo  (None, 3, 3, 192)   768         ['block_11_depthwise[0][0]']     \n",
            " rmalization)                                                                                     \n",
            "                                                                                                  \n",
            " block_11_depthwise_relu (ReLU)  (None, 3, 3, 192)   0           ['block_11_depthwise_BN[0][0]']  \n",
            "                                                                                                  \n",
            " block_11_project (Conv2D)      (None, 3, 3, 32)     6144        ['block_11_depthwise_relu[0][0]']\n",
            "                                                                                                  \n",
            " block_11_project_BN (BatchNorm  (None, 3, 3, 32)    128         ['block_11_project[0][0]']       \n",
            " alization)                                                                                       \n",
            "                                                                                                  \n",
            " block_11_add (Add)             (None, 3, 3, 32)     0           ['block_10_project_BN[0][0]',    \n",
            "                                                                  'block_11_project_BN[0][0]']    \n",
            "                                                                                                  \n",
            " block_12_expand (Conv2D)       (None, 3, 3, 192)    6144        ['block_11_add[0][0]']           \n",
            "                                                                                                  \n",
            " block_12_expand_BN (BatchNorma  (None, 3, 3, 192)   768         ['block_12_expand[0][0]']        \n",
            " lization)                                                                                        \n",
            "                                                                                                  \n",
            " block_12_expand_relu (ReLU)    (None, 3, 3, 192)    0           ['block_12_expand_BN[0][0]']     \n",
            "                                                                                                  \n",
            " block_12_depthwise (DepthwiseC  (None, 3, 3, 192)   1728        ['block_12_expand_relu[0][0]']   \n",
            " onv2D)                                                                                           \n",
            "                                                                                                  \n",
            " block_12_depthwise_BN (BatchNo  (None, 3, 3, 192)   768         ['block_12_depthwise[0][0]']     \n",
            " rmalization)                                                                                     \n",
            "                                                                                                  \n",
            " block_12_depthwise_relu (ReLU)  (None, 3, 3, 192)   0           ['block_12_depthwise_BN[0][0]']  \n",
            "                                                                                                  \n",
            " block_12_project (Conv2D)      (None, 3, 3, 32)     6144        ['block_12_depthwise_relu[0][0]']\n",
            "                                                                                                  \n",
            " block_12_project_BN (BatchNorm  (None, 3, 3, 32)    128         ['block_12_project[0][0]']       \n",
            " alization)                                                                                       \n",
            "                                                                                                  \n",
            " block_12_add (Add)             (None, 3, 3, 32)     0           ['block_11_add[0][0]',           \n",
            "                                                                  'block_12_project_BN[0][0]']    \n",
            "                                                                                                  \n",
            " block_13_expand (Conv2D)       (None, 3, 3, 192)    6144        ['block_12_add[0][0]']           \n",
            "                                                                                                  \n",
            " block_13_expand_BN (BatchNorma  (None, 3, 3, 192)   768         ['block_13_expand[0][0]']        \n",
            " lization)                                                                                        \n",
            "                                                                                                  \n",
            " block_13_expand_relu (ReLU)    (None, 3, 3, 192)    0           ['block_13_expand_BN[0][0]']     \n",
            "                                                                                                  \n",
            " block_13_pad (ZeroPadding2D)   (None, 5, 5, 192)    0           ['block_13_expand_relu[0][0]']   \n",
            "                                                                                                  \n",
            " block_13_depthwise (DepthwiseC  (None, 2, 2, 192)   1728        ['block_13_pad[0][0]']           \n",
            " onv2D)                                                                                           \n",
            "                                                                                                  \n",
            " block_13_depthwise_BN (BatchNo  (None, 2, 2, 192)   768         ['block_13_depthwise[0][0]']     \n",
            " rmalization)                                                                                     \n",
            "                                                                                                  \n",
            " block_13_depthwise_relu (ReLU)  (None, 2, 2, 192)   0           ['block_13_depthwise_BN[0][0]']  \n",
            "                                                                                                  \n",
            " block_13_project (Conv2D)      (None, 2, 2, 56)     10752       ['block_13_depthwise_relu[0][0]']\n",
            "                                                                                                  \n",
            " block_13_project_BN (BatchNorm  (None, 2, 2, 56)    224         ['block_13_project[0][0]']       \n",
            " alization)                                                                                       \n",
            "                                                                                                  \n",
            " block_14_expand (Conv2D)       (None, 2, 2, 336)    18816       ['block_13_project_BN[0][0]']    \n",
            "                                                                                                  \n",
            " block_14_expand_BN (BatchNorma  (None, 2, 2, 336)   1344        ['block_14_expand[0][0]']        \n",
            " lization)                                                                                        \n",
            "                                                                                                  \n",
            " block_14_expand_relu (ReLU)    (None, 2, 2, 336)    0           ['block_14_expand_BN[0][0]']     \n",
            "                                                                                                  \n",
            " block_14_depthwise (DepthwiseC  (None, 2, 2, 336)   3024        ['block_14_expand_relu[0][0]']   \n",
            " onv2D)                                                                                           \n",
            "                                                                                                  \n",
            " block_14_depthwise_BN (BatchNo  (None, 2, 2, 336)   1344        ['block_14_depthwise[0][0]']     \n",
            " rmalization)                                                                                     \n",
            "                                                                                                  \n",
            " block_14_depthwise_relu (ReLU)  (None, 2, 2, 336)   0           ['block_14_depthwise_BN[0][0]']  \n",
            "                                                                                                  \n",
            " block_14_project (Conv2D)      (None, 2, 2, 56)     18816       ['block_14_depthwise_relu[0][0]']\n",
            "                                                                                                  \n",
            " block_14_project_BN (BatchNorm  (None, 2, 2, 56)    224         ['block_14_project[0][0]']       \n",
            " alization)                                                                                       \n",
            "                                                                                                  \n",
            " block_14_add (Add)             (None, 2, 2, 56)     0           ['block_13_project_BN[0][0]',    \n",
            "                                                                  'block_14_project_BN[0][0]']    \n",
            "                                                                                                  \n",
            " block_15_expand (Conv2D)       (None, 2, 2, 336)    18816       ['block_14_add[0][0]']           \n",
            "                                                                                                  \n",
            " block_15_expand_BN (BatchNorma  (None, 2, 2, 336)   1344        ['block_15_expand[0][0]']        \n",
            " lization)                                                                                        \n",
            "                                                                                                  \n",
            " block_15_expand_relu (ReLU)    (None, 2, 2, 336)    0           ['block_15_expand_BN[0][0]']     \n",
            "                                                                                                  \n",
            " block_15_depthwise (DepthwiseC  (None, 2, 2, 336)   3024        ['block_15_expand_relu[0][0]']   \n",
            " onv2D)                                                                                           \n",
            "                                                                                                  \n",
            " block_15_depthwise_BN (BatchNo  (None, 2, 2, 336)   1344        ['block_15_depthwise[0][0]']     \n",
            " rmalization)                                                                                     \n",
            "                                                                                                  \n",
            " block_15_depthwise_relu (ReLU)  (None, 2, 2, 336)   0           ['block_15_depthwise_BN[0][0]']  \n",
            "                                                                                                  \n",
            " block_15_project (Conv2D)      (None, 2, 2, 56)     18816       ['block_15_depthwise_relu[0][0]']\n",
            "                                                                                                  \n",
            " block_15_project_BN (BatchNorm  (None, 2, 2, 56)    224         ['block_15_project[0][0]']       \n",
            " alization)                                                                                       \n",
            "                                                                                                  \n",
            " block_15_add (Add)             (None, 2, 2, 56)     0           ['block_14_add[0][0]',           \n",
            "                                                                  'block_15_project_BN[0][0]']    \n",
            "                                                                                                  \n",
            " block_16_expand (Conv2D)       (None, 2, 2, 336)    18816       ['block_15_add[0][0]']           \n",
            "                                                                                                  \n",
            " block_16_expand_BN (BatchNorma  (None, 2, 2, 336)   1344        ['block_16_expand[0][0]']        \n",
            " lization)                                                                                        \n",
            "                                                                                                  \n",
            " block_16_expand_relu (ReLU)    (None, 2, 2, 336)    0           ['block_16_expand_BN[0][0]']     \n",
            "                                                                                                  \n",
            " block_16_depthwise (DepthwiseC  (None, 2, 2, 336)   3024        ['block_16_expand_relu[0][0]']   \n",
            " onv2D)                                                                                           \n",
            "                                                                                                  \n",
            " block_16_depthwise_BN (BatchNo  (None, 2, 2, 336)   1344        ['block_16_depthwise[0][0]']     \n",
            " rmalization)                                                                                     \n",
            "                                                                                                  \n",
            " block_16_depthwise_relu (ReLU)  (None, 2, 2, 336)   0           ['block_16_depthwise_BN[0][0]']  \n",
            "                                                                                                  \n",
            " block_16_project (Conv2D)      (None, 2, 2, 112)    37632       ['block_16_depthwise_relu[0][0]']\n",
            "                                                                                                  \n",
            " block_16_project_BN (BatchNorm  (None, 2, 2, 112)   448         ['block_16_project[0][0]']       \n",
            " alization)                                                                                       \n",
            "                                                                                                  \n",
            " Conv_1 (Conv2D)                (None, 2, 2, 1280)   143360      ['block_16_project_BN[0][0]']    \n",
            "                                                                                                  \n",
            " Conv_1_bn (BatchNormalization)  (None, 2, 2, 1280)  5120        ['Conv_1[0][0]']                 \n",
            "                                                                                                  \n",
            " out_relu (ReLU)                (None, 2, 2, 1280)   0           ['Conv_1_bn[0][0]']              \n",
            "                                                                                                  \n",
            " global_average_pooling2d (Glob  (None, 1280)        0           ['out_relu[0][0]']               \n",
            " alAveragePooling2D)                                                                              \n",
            "                                                                                                  \n",
            " dropout (Dropout)              (None, 1280)         0           ['global_average_pooling2d[0][0]'\n",
            "                                                                 ]                                \n",
            "                                                                                                  \n",
            " dense (Dense)                  (None, 2)            2562        ['dropout[0][0]']                \n",
            "                                                                                                  \n",
            "==================================================================================================\n",
            "Total params: 412,770\n",
            "Trainable params: 2,562\n",
            "Non-trainable params: 410,208\n",
            "__________________________________________________________________________________________________\n"
          ]
        }
      ]
    },
    {
      "cell_type": "code",
      "source": [
        "model.fit(\n",
        "  train_ds,\n",
        "  validation_data=val_ds,\n",
        "  epochs=100\n",
        ")"
      ],
      "metadata": {
        "colab": {
          "base_uri": "https://localhost:8080/"
        },
        "id": "B_7ZAh2r-IIa",
        "outputId": "c6beabd5-6139-44f7-a038-b9c0eaf40a8a"
      },
      "execution_count": 17,
      "outputs": [
        {
          "output_type": "stream",
          "name": "stdout",
          "text": [
            "Epoch 1/100\n",
            "1/1 [==============================] - 1s 1s/step - loss: 0.5239 - accuracy: 0.7500 - val_loss: 1.0878 - val_accuracy: 0.3750\n",
            "Epoch 2/100\n",
            "1/1 [==============================] - 1s 699ms/step - loss: 0.4817 - accuracy: 0.7188 - val_loss: 1.3628 - val_accuracy: 0.3750\n",
            "Epoch 3/100\n",
            "1/1 [==============================] - 1s 953ms/step - loss: 0.4948 - accuracy: 0.7500 - val_loss: 0.8560 - val_accuracy: 0.6250\n",
            "Epoch 4/100\n",
            "1/1 [==============================] - 1s 854ms/step - loss: 0.5181 - accuracy: 0.7500 - val_loss: 1.1346 - val_accuracy: 0.2500\n",
            "Epoch 5/100\n",
            "1/1 [==============================] - 1s 673ms/step - loss: 0.3878 - accuracy: 0.8125 - val_loss: 1.3470 - val_accuracy: 0.2500\n",
            "Epoch 6/100\n",
            "1/1 [==============================] - 1s 659ms/step - loss: 0.6587 - accuracy: 0.6875 - val_loss: 1.0692 - val_accuracy: 0.7500\n",
            "Epoch 7/100\n",
            "1/1 [==============================] - 1s 1s/step - loss: 0.4736 - accuracy: 0.8125 - val_loss: 1.2770 - val_accuracy: 0.3750\n",
            "Epoch 8/100\n",
            "1/1 [==============================] - 1s 1s/step - loss: 0.4440 - accuracy: 0.7812 - val_loss: 0.9723 - val_accuracy: 0.3750\n",
            "Epoch 9/100\n",
            "1/1 [==============================] - 1s 689ms/step - loss: 0.3709 - accuracy: 0.8438 - val_loss: 1.1498 - val_accuracy: 0.1250\n",
            "Epoch 10/100\n",
            "1/1 [==============================] - 2s 2s/step - loss: 0.3885 - accuracy: 0.7500 - val_loss: 0.6843 - val_accuracy: 0.7500\n",
            "Epoch 11/100\n",
            "1/1 [==============================] - 1s 1s/step - loss: 0.3009 - accuracy: 0.8438 - val_loss: 1.3643 - val_accuracy: 0.2500\n",
            "Epoch 12/100\n",
            "1/1 [==============================] - 1s 1s/step - loss: 0.3475 - accuracy: 0.8438 - val_loss: 1.1341 - val_accuracy: 0.5000\n",
            "Epoch 13/100\n",
            "1/1 [==============================] - 1s 1s/step - loss: 0.3823 - accuracy: 0.7812 - val_loss: 1.4791 - val_accuracy: 0.3750\n",
            "Epoch 14/100\n",
            "1/1 [==============================] - 1s 649ms/step - loss: 0.4328 - accuracy: 0.7812 - val_loss: 1.6862 - val_accuracy: 0.3750\n",
            "Epoch 15/100\n",
            "1/1 [==============================] - 1s 938ms/step - loss: 0.2765 - accuracy: 0.8438 - val_loss: 1.3062 - val_accuracy: 0.1250\n",
            "Epoch 16/100\n",
            "1/1 [==============================] - 1s 741ms/step - loss: 0.3762 - accuracy: 0.8125 - val_loss: 1.5532 - val_accuracy: 0.3750\n",
            "Epoch 17/100\n",
            "1/1 [==============================] - 1s 711ms/step - loss: 0.3717 - accuracy: 0.8438 - val_loss: 1.5194 - val_accuracy: 0.1250\n",
            "Epoch 18/100\n",
            "1/1 [==============================] - 1s 1s/step - loss: 0.3732 - accuracy: 0.8750 - val_loss: 1.1653 - val_accuracy: 0.3750\n",
            "Epoch 19/100\n",
            "1/1 [==============================] - 1s 611ms/step - loss: 0.2847 - accuracy: 0.8750 - val_loss: 1.0071 - val_accuracy: 0.8750\n",
            "Epoch 20/100\n",
            "1/1 [==============================] - 1s 1s/step - loss: 0.2634 - accuracy: 0.9375 - val_loss: 0.8270 - val_accuracy: 0.5000\n",
            "Epoch 21/100\n",
            "1/1 [==============================] - 1s 881ms/step - loss: 0.3828 - accuracy: 0.8125 - val_loss: 1.2605 - val_accuracy: 0.2500\n",
            "Epoch 22/100\n",
            "1/1 [==============================] - 1s 852ms/step - loss: 0.2666 - accuracy: 0.8438 - val_loss: 1.4331 - val_accuracy: 0.2500\n",
            "Epoch 23/100\n",
            "1/1 [==============================] - 1s 1s/step - loss: 0.2375 - accuracy: 0.9062 - val_loss: 1.0862 - val_accuracy: 0.5000\n",
            "Epoch 24/100\n",
            "1/1 [==============================] - 1s 1s/step - loss: 0.3293 - accuracy: 0.8750 - val_loss: 1.6954 - val_accuracy: 0.6250\n",
            "Epoch 25/100\n",
            "1/1 [==============================] - 1s 654ms/step - loss: 0.3673 - accuracy: 0.8750 - val_loss: 1.0585 - val_accuracy: 0.3750\n",
            "Epoch 26/100\n",
            "1/1 [==============================] - 1s 697ms/step - loss: 0.3146 - accuracy: 0.7812 - val_loss: 1.0506 - val_accuracy: 0.5000\n",
            "Epoch 27/100\n",
            "1/1 [==============================] - 1s 1s/step - loss: 0.2408 - accuracy: 0.9062 - val_loss: 1.0523 - val_accuracy: 0.6250\n",
            "Epoch 28/100\n",
            "1/1 [==============================] - 1s 953ms/step - loss: 0.2728 - accuracy: 0.8438 - val_loss: 1.4723 - val_accuracy: 0.3750\n",
            "Epoch 29/100\n",
            "1/1 [==============================] - 1s 650ms/step - loss: 0.3819 - accuracy: 0.8438 - val_loss: 1.2021 - val_accuracy: 0.2500\n",
            "Epoch 30/100\n",
            "1/1 [==============================] - 1s 682ms/step - loss: 0.2560 - accuracy: 0.9062 - val_loss: 1.4721 - val_accuracy: 0.5000\n",
            "Epoch 31/100\n",
            "1/1 [==============================] - 1s 746ms/step - loss: 0.3179 - accuracy: 0.8438 - val_loss: 1.4021 - val_accuracy: 0.2500\n",
            "Epoch 32/100\n",
            "1/1 [==============================] - 1s 654ms/step - loss: 0.2997 - accuracy: 0.8125 - val_loss: 0.9463 - val_accuracy: 0.6250\n",
            "Epoch 33/100\n",
            "1/1 [==============================] - 1s 1s/step - loss: 0.2123 - accuracy: 0.9375 - val_loss: 0.8107 - val_accuracy: 0.6250\n",
            "Epoch 34/100\n",
            "1/1 [==============================] - 1s 718ms/step - loss: 0.2677 - accuracy: 0.8750 - val_loss: 1.1119 - val_accuracy: 0.5000\n",
            "Epoch 35/100\n",
            "1/1 [==============================] - 1s 670ms/step - loss: 0.2358 - accuracy: 0.9375 - val_loss: 1.0073 - val_accuracy: 0.6250\n",
            "Epoch 36/100\n",
            "1/1 [==============================] - 1s 874ms/step - loss: 0.2789 - accuracy: 0.8438 - val_loss: 1.6237 - val_accuracy: 0.2500\n",
            "Epoch 37/100\n",
            "1/1 [==============================] - 1s 695ms/step - loss: 0.3707 - accuracy: 0.8750 - val_loss: 0.8867 - val_accuracy: 0.6250\n",
            "Epoch 38/100\n",
            "1/1 [==============================] - 1s 685ms/step - loss: 0.4444 - accuracy: 0.7812 - val_loss: 1.2684 - val_accuracy: 0.2500\n",
            "Epoch 39/100\n",
            "1/1 [==============================] - 1s 667ms/step - loss: 0.2915 - accuracy: 0.9062 - val_loss: 1.0530 - val_accuracy: 0.3750\n",
            "Epoch 40/100\n",
            "1/1 [==============================] - 1s 656ms/step - loss: 0.2271 - accuracy: 0.9688 - val_loss: 1.2856 - val_accuracy: 0.5000\n",
            "Epoch 41/100\n",
            "1/1 [==============================] - 1s 686ms/step - loss: 0.3757 - accuracy: 0.8750 - val_loss: 1.1305 - val_accuracy: 0.5000\n",
            "Epoch 42/100\n",
            "1/1 [==============================] - 1s 781ms/step - loss: 0.2481 - accuracy: 0.8750 - val_loss: 0.8972 - val_accuracy: 0.5000\n",
            "Epoch 43/100\n",
            "1/1 [==============================] - 1s 757ms/step - loss: 0.2811 - accuracy: 0.8750 - val_loss: 1.3250 - val_accuracy: 0.7500\n",
            "Epoch 44/100\n",
            "1/1 [==============================] - 1s 737ms/step - loss: 0.1756 - accuracy: 0.9375 - val_loss: 1.2080 - val_accuracy: 0.5000\n",
            "Epoch 45/100\n",
            "1/1 [==============================] - 1s 1s/step - loss: 0.2290 - accuracy: 0.9688 - val_loss: 1.8943 - val_accuracy: 0.2500\n",
            "Epoch 46/100\n",
            "1/1 [==============================] - 1s 686ms/step - loss: 0.3804 - accuracy: 0.8438 - val_loss: 1.9120 - val_accuracy: 0.5000\n",
            "Epoch 47/100\n",
            "1/1 [==============================] - 1s 696ms/step - loss: 0.3118 - accuracy: 0.8438 - val_loss: 1.3307 - val_accuracy: 0.2500\n",
            "Epoch 48/100\n",
            "1/1 [==============================] - 1s 972ms/step - loss: 0.2015 - accuracy: 0.9375 - val_loss: 2.0382 - val_accuracy: 0.0000e+00\n",
            "Epoch 49/100\n",
            "1/1 [==============================] - 1s 789ms/step - loss: 0.3165 - accuracy: 0.8438 - val_loss: 1.2301 - val_accuracy: 0.5000\n",
            "Epoch 50/100\n",
            "1/1 [==============================] - 1s 1s/step - loss: 0.1550 - accuracy: 0.9688 - val_loss: 1.0787 - val_accuracy: 0.6250\n",
            "Epoch 51/100\n",
            "1/1 [==============================] - 1s 718ms/step - loss: 0.2824 - accuracy: 0.9062 - val_loss: 0.9978 - val_accuracy: 0.7500\n",
            "Epoch 52/100\n",
            "1/1 [==============================] - 1s 1s/step - loss: 0.2889 - accuracy: 0.8750 - val_loss: 0.9332 - val_accuracy: 0.6250\n",
            "Epoch 53/100\n",
            "1/1 [==============================] - 1s 774ms/step - loss: 0.3172 - accuracy: 0.8750 - val_loss: 1.7648 - val_accuracy: 0.2500\n",
            "Epoch 54/100\n",
            "1/1 [==============================] - 2s 2s/step - loss: 0.2540 - accuracy: 0.8750 - val_loss: 0.9717 - val_accuracy: 0.5000\n",
            "Epoch 55/100\n",
            "1/1 [==============================] - 1s 672ms/step - loss: 0.4322 - accuracy: 0.8125 - val_loss: 1.8632 - val_accuracy: 0.2500\n",
            "Epoch 56/100\n",
            "1/1 [==============================] - 1s 1s/step - loss: 0.2351 - accuracy: 0.8438 - val_loss: 1.1333 - val_accuracy: 0.5000\n",
            "Epoch 57/100\n",
            "1/1 [==============================] - 1s 724ms/step - loss: 0.2706 - accuracy: 0.8125 - val_loss: 1.4531 - val_accuracy: 0.5000\n",
            "Epoch 58/100\n",
            "1/1 [==============================] - 1s 767ms/step - loss: 0.3497 - accuracy: 0.8125 - val_loss: 1.1549 - val_accuracy: 0.7500\n",
            "Epoch 59/100\n",
            "1/1 [==============================] - 1s 623ms/step - loss: 0.3089 - accuracy: 0.8438 - val_loss: 1.1694 - val_accuracy: 0.6250\n",
            "Epoch 60/100\n",
            "1/1 [==============================] - 1s 1s/step - loss: 0.2795 - accuracy: 0.9375 - val_loss: 0.5924 - val_accuracy: 0.7500\n",
            "Epoch 61/100\n",
            "1/1 [==============================] - 1s 1s/step - loss: 0.2178 - accuracy: 0.9062 - val_loss: 0.7710 - val_accuracy: 0.7500\n",
            "Epoch 62/100\n",
            "1/1 [==============================] - 1s 1s/step - loss: 0.1951 - accuracy: 0.9375 - val_loss: 1.4546 - val_accuracy: 0.3750\n",
            "Epoch 63/100\n",
            "1/1 [==============================] - 1s 639ms/step - loss: 0.1521 - accuracy: 0.9688 - val_loss: 0.9257 - val_accuracy: 0.5000\n",
            "Epoch 64/100\n",
            "1/1 [==============================] - 1s 1s/step - loss: 0.1889 - accuracy: 0.9062 - val_loss: 0.5700 - val_accuracy: 0.7500\n",
            "Epoch 65/100\n",
            "1/1 [==============================] - 1s 698ms/step - loss: 0.2097 - accuracy: 0.9688 - val_loss: 0.9087 - val_accuracy: 0.5000\n",
            "Epoch 66/100\n",
            "1/1 [==============================] - 1s 1s/step - loss: 0.2395 - accuracy: 0.9062 - val_loss: 1.1316 - val_accuracy: 0.5000\n",
            "Epoch 67/100\n",
            "1/1 [==============================] - 1s 1s/step - loss: 0.2571 - accuracy: 0.9375 - val_loss: 0.9585 - val_accuracy: 0.5000\n",
            "Epoch 68/100\n",
            "1/1 [==============================] - 1s 696ms/step - loss: 0.3268 - accuracy: 0.8438 - val_loss: 1.2902 - val_accuracy: 0.2500\n",
            "Epoch 69/100\n",
            "1/1 [==============================] - 1s 1s/step - loss: 0.2268 - accuracy: 0.8750 - val_loss: 1.0820 - val_accuracy: 0.6250\n",
            "Epoch 70/100\n",
            "1/1 [==============================] - 1s 1s/step - loss: 0.2847 - accuracy: 0.8125 - val_loss: 1.1070 - val_accuracy: 0.3750\n",
            "Epoch 71/100\n",
            "1/1 [==============================] - 1s 678ms/step - loss: 0.2964 - accuracy: 0.8438 - val_loss: 1.2130 - val_accuracy: 0.6250\n",
            "Epoch 72/100\n",
            "1/1 [==============================] - 1s 741ms/step - loss: 0.1563 - accuracy: 0.9688 - val_loss: 1.0811 - val_accuracy: 0.6250\n",
            "Epoch 73/100\n",
            "1/1 [==============================] - 1s 943ms/step - loss: 0.1927 - accuracy: 0.9062 - val_loss: 1.8800 - val_accuracy: 0.2500\n",
            "Epoch 74/100\n",
            "1/1 [==============================] - 1s 860ms/step - loss: 0.1661 - accuracy: 0.9375 - val_loss: 1.3145 - val_accuracy: 0.5000\n",
            "Epoch 75/100\n",
            "1/1 [==============================] - 1s 1s/step - loss: 0.2690 - accuracy: 0.9062 - val_loss: 1.4962 - val_accuracy: 0.3750\n",
            "Epoch 76/100\n",
            "1/1 [==============================] - 2s 2s/step - loss: 0.2043 - accuracy: 0.9375 - val_loss: 1.6333 - val_accuracy: 0.3750\n",
            "Epoch 77/100\n",
            "1/1 [==============================] - 1s 1s/step - loss: 0.2411 - accuracy: 0.9062 - val_loss: 1.1387 - val_accuracy: 0.5000\n",
            "Epoch 78/100\n",
            "1/1 [==============================] - 1s 686ms/step - loss: 0.1969 - accuracy: 0.9375 - val_loss: 1.2623 - val_accuracy: 0.3750\n",
            "Epoch 79/100\n",
            "1/1 [==============================] - 1s 825ms/step - loss: 0.3184 - accuracy: 0.8438 - val_loss: 1.3522 - val_accuracy: 0.5000\n",
            "Epoch 80/100\n",
            "1/1 [==============================] - 1s 774ms/step - loss: 0.1388 - accuracy: 0.9688 - val_loss: 1.0660 - val_accuracy: 0.3750\n",
            "Epoch 81/100\n",
            "1/1 [==============================] - 1s 632ms/step - loss: 0.2807 - accuracy: 0.9062 - val_loss: 1.6208 - val_accuracy: 0.2500\n",
            "Epoch 82/100\n",
            "1/1 [==============================] - 1s 974ms/step - loss: 0.1581 - accuracy: 0.9375 - val_loss: 1.1715 - val_accuracy: 0.3750\n",
            "Epoch 83/100\n",
            "1/1 [==============================] - 1s 737ms/step - loss: 0.3031 - accuracy: 0.8750 - val_loss: 1.4155 - val_accuracy: 0.5000\n",
            "Epoch 84/100\n",
            "1/1 [==============================] - 1s 1s/step - loss: 0.2045 - accuracy: 0.9688 - val_loss: 0.9909 - val_accuracy: 0.7500\n",
            "Epoch 85/100\n",
            "1/1 [==============================] - 1s 665ms/step - loss: 0.1525 - accuracy: 0.9375 - val_loss: 1.5408 - val_accuracy: 0.3750\n",
            "Epoch 86/100\n",
            "1/1 [==============================] - 1s 1s/step - loss: 0.2145 - accuracy: 0.9062 - val_loss: 1.0522 - val_accuracy: 0.2500\n",
            "Epoch 87/100\n",
            "1/1 [==============================] - 1s 1s/step - loss: 0.2463 - accuracy: 0.9062 - val_loss: 1.0553 - val_accuracy: 0.6250\n",
            "Epoch 88/100\n",
            "1/1 [==============================] - 1s 770ms/step - loss: 0.1974 - accuracy: 0.9062 - val_loss: 0.9951 - val_accuracy: 0.6250\n",
            "Epoch 89/100\n",
            "1/1 [==============================] - 1s 1s/step - loss: 0.2316 - accuracy: 0.9062 - val_loss: 0.8296 - val_accuracy: 0.5000\n",
            "Epoch 90/100\n",
            "1/1 [==============================] - 1s 752ms/step - loss: 0.2095 - accuracy: 0.9375 - val_loss: 0.8976 - val_accuracy: 0.5000\n",
            "Epoch 91/100\n",
            "1/1 [==============================] - 1s 1s/step - loss: 0.1869 - accuracy: 0.9375 - val_loss: 0.8195 - val_accuracy: 0.6250\n",
            "Epoch 92/100\n",
            "1/1 [==============================] - 1s 1s/step - loss: 0.2189 - accuracy: 0.9375 - val_loss: 1.0751 - val_accuracy: 0.6250\n",
            "Epoch 93/100\n",
            "1/1 [==============================] - 2s 2s/step - loss: 0.2201 - accuracy: 0.8750 - val_loss: 0.9539 - val_accuracy: 0.5000\n",
            "Epoch 94/100\n",
            "1/1 [==============================] - 1s 1s/step - loss: 0.1940 - accuracy: 0.9375 - val_loss: 1.2803 - val_accuracy: 0.6250\n",
            "Epoch 95/100\n",
            "1/1 [==============================] - 1s 696ms/step - loss: 0.1475 - accuracy: 1.0000 - val_loss: 1.1390 - val_accuracy: 0.5000\n",
            "Epoch 96/100\n",
            "1/1 [==============================] - 1s 1s/step - loss: 0.1449 - accuracy: 1.0000 - val_loss: 1.2607 - val_accuracy: 0.5000\n",
            "Epoch 97/100\n",
            "1/1 [==============================] - 1s 623ms/step - loss: 0.2098 - accuracy: 0.9688 - val_loss: 1.3402 - val_accuracy: 0.2500\n",
            "Epoch 98/100\n",
            "1/1 [==============================] - 1s 652ms/step - loss: 0.1931 - accuracy: 0.9062 - val_loss: 0.6809 - val_accuracy: 0.5000\n",
            "Epoch 99/100\n",
            "1/1 [==============================] - 1s 1s/step - loss: 0.2417 - accuracy: 0.9062 - val_loss: 1.1339 - val_accuracy: 0.5000\n",
            "Epoch 100/100\n",
            "1/1 [==============================] - 1s 897ms/step - loss: 0.2863 - accuracy: 0.8438 - val_loss: 1.3078 - val_accuracy: 0.5000\n"
          ]
        },
        {
          "output_type": "execute_result",
          "data": {
            "text/plain": [
              "<keras.callbacks.History at 0x7f9792ef2340>"
            ]
          },
          "metadata": {},
          "execution_count": 17
        }
      ]
    },
    {
      "cell_type": "code",
      "source": [
        "model.save(TF_MODEL)"
      ],
      "metadata": {
        "colab": {
          "base_uri": "https://localhost:8080/"
        },
        "id": "1k0txXWK_csy",
        "outputId": "7ba23d05-1ab7-4658-bb05-0c9e8629f000"
      },
      "execution_count": 18,
      "outputs": [
        {
          "output_type": "stream",
          "name": "stderr",
          "text": [
            "WARNING:absl:Found untraced functions such as _jit_compiled_convolution_op, _jit_compiled_convolution_op, _jit_compiled_convolution_op, _jit_compiled_convolution_op, _jit_compiled_convolution_op while saving (showing 5 of 53). These functions will not be directly callable after loading.\n"
          ]
        }
      ]
    },
    {
      "cell_type": "code",
      "source": [
        "TF_MODEL"
      ],
      "metadata": {
        "id": "gL-lI0Nm_18M"
      },
      "execution_count": null,
      "outputs": []
    },
    {
      "cell_type": "markdown",
      "source": [
        "# Quantize the TensorFlow model with the TFLite converter"
      ],
      "metadata": {
        "id": "2xa3lD75_UPZ"
      }
    },
    {
      "cell_type": "code",
      "source": [],
      "metadata": {
        "id": "_3ReZXOT_QY4"
      },
      "execution_count": null,
      "outputs": []
    }
  ]
}